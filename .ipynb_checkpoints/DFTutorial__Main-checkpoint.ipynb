{
 "cells": [
  {
   "cell_type": "markdown",
   "metadata": {
    "slideshow": {
     "slide_type": "slide"
    }
   },
   "source": [
    "# Python data visualization to accelerate data and business understanding\n",
    "\n",
    "\n",
    "\n",
    "Visualization is an essential part of data scientist’s toolbox and is a key data exploration method, powerful tool for data story-telling and understanding problems with analytics.\n",
    "Attendees are introduced to the jungle of Python visualization packages. With the help of tutor they will create interactive visualizations with basic glyphs in Python.\n",
    "\n",
    "\n",
    "Disclaimer: some facts are just my opinion and should not be taken as granted.\n",
    "\n",
    "How to be interactive and use slack channel.\n"
   ]
  },
  {
   "cell_type": "markdown",
   "metadata": {
    "slideshow": {
     "slide_type": "subslide"
    }
   },
   "source": [
    "Table of Content"
   ]
  },
  {
   "cell_type": "markdown",
   "metadata": {
    "slideshow": {
     "slide_type": "slide"
    }
   },
   "source": [
    "## Half I"
   ]
  },
  {
   "cell_type": "markdown",
   "metadata": {
    "heading_collapsed": true,
    "slideshow": {
     "slide_type": "slide"
    }
   },
   "source": [
    "### Why data visualization matters?"
   ]
  },
  {
   "cell_type": "markdown",
   "metadata": {
    "hidden": true,
    "slideshow": {
     "slide_type": "subslide"
    }
   },
   "source": [
    "Why is it important to visualize data?"
   ]
  },
  {
   "cell_type": "markdown",
   "metadata": {
    "hidden": true,
    "slideshow": {
     "slide_type": "notes"
    }
   },
   "source": [
    "There are lots of talk about visualization, so why do we care at all?"
   ]
  },
  {
   "cell_type": "markdown",
   "metadata": {
    "hidden": true,
    "slideshow": {
     "slide_type": "subslide"
    }
   },
   "source": [
    "Data visualization refers to the techniques used to communicate data or information by encoding it as visual objects (points, lines or bars) contained in graphics (source: wikipedia https://en.wikipedia.org/wiki/Data_visualization) "
   ]
  },
  {
   "cell_type": "markdown",
   "metadata": {
    "hidden": true,
    "slideshow": {
     "slide_type": "fragment"
    }
   },
   "source": [
    "Visualization vs No visualization"
   ]
  },
  {
   "cell_type": "markdown",
   "metadata": {
    "hidden": true,
    "slideshow": {
     "slide_type": "fragment"
    }
   },
   "source": [
    "Leaving data in the raw form.\n",
    "\n",
    "\n",
    "<img src=\"media/aggregated_customers.png\" alt=\"Italian Trulli\">"
   ]
  },
  {
   "cell_type": "markdown",
   "metadata": {
    "hidden": true,
    "slideshow": {
     "slide_type": "subslide"
    }
   },
   "source": [
    "Leaving data in the raw form.\n",
    "\n",
    "\n",
    "<img src=\"media/customers.gif\" alt=\"Italian Trulli\">"
   ]
  },
  {
   "cell_type": "markdown",
   "metadata": {
    "hidden": true,
    "slideshow": {
     "slide_type": "subslide"
    }
   },
   "source": [
    "Leaving data in the raw form.\n",
    "\n",
    "\n",
    "<img src=\"media/json.png\" alt=\"Italian Trulli\">"
   ]
  },
  {
   "cell_type": "markdown",
   "metadata": {
    "hidden": true,
    "slideshow": {
     "slide_type": "subslide"
    }
   },
   "source": [
    "Leaving data in the raw form.\n",
    "\n",
    "\n",
    "<img src=\"media/adjacency.png\" alt=\"Italian Trulli\">"
   ]
  },
  {
   "cell_type": "markdown",
   "metadata": {
    "hidden": true,
    "slideshow": {
     "slide_type": "subslide"
    }
   },
   "source": [
    "Leaving data in the raw form.\n",
    "\n",
    "\n",
    "<img src=\"media/logs.jpg\" alt=\"Italian Trulli\">"
   ]
  },
  {
   "cell_type": "markdown",
   "metadata": {
    "hidden": true,
    "slideshow": {
     "slide_type": "subslide"
    }
   },
   "source": [
    "Do most of the people visualize data?"
   ]
  },
  {
   "cell_type": "markdown",
   "metadata": {
    "hidden": true,
    "slideshow": {
     "slide_type": "fragment"
    }
   },
   "source": [
    "Any guesses?"
   ]
  },
  {
   "cell_type": "markdown",
   "metadata": {
    "hidden": true,
    "slideshow": {
     "slide_type": "notes"
    }
   },
   "source": [
    "We see that raw data is ugly, but do people consider that?"
   ]
  },
  {
   "cell_type": "markdown",
   "metadata": {
    "hidden": true,
    "slideshow": {
     "slide_type": "fragment"
    }
   },
   "source": [
    "My personal opinion:\n",
    "\n",
    "\n",
    "* Everybody in enterprise use Ms Excel - 1.2B users (source: Hjalmar Gislason\n",
    "https://medium.com/grid-spreadsheets-run-the-world/excel-vs-google-sheets-usage-nature-and-numbers-9dfa5d1cadbd)\n",
    "\n",
    "* Excel is not the most flexible tool for visualization"
   ]
  },
  {
   "cell_type": "markdown",
   "metadata": {
    "ExecuteTime": {
     "end_time": "2020-12-11T18:36:42.733560Z",
     "start_time": "2020-12-11T18:36:42.720561Z"
    },
    "hidden": true,
    "slideshow": {
     "slide_type": "subslide"
    }
   },
   "source": [
    "People tend to fit to the tool they use\n",
    "\n",
    "<img src=\"media/tools.jpg\" alt=\"Italian Trulli\">"
   ]
  },
  {
   "cell_type": "markdown",
   "metadata": {
    "ExecuteTime": {
     "end_time": "2020-12-11T18:36:42.733560Z",
     "start_time": "2020-12-11T18:36:42.720561Z"
    },
    "hidden": true,
    "slideshow": {
     "slide_type": "subslide"
    }
   },
   "source": [
    "People tend to fit to the tool they use\n",
    "\n",
    "<img src=\"media/wrong_tool.jpg\" alt=\"Italian Trulli\">"
   ]
  },
  {
   "cell_type": "markdown",
   "metadata": {
    "hidden": true,
    "slideshow": {
     "slide_type": "subslide"
    }
   },
   "source": [
    "Bad defaults\n",
    "\n",
    "<img src=\"media/bad_excel1.jpg\" alt=\"Italian Trulli\">\n",
    "\n",
    "<img src=\"media/bad_excel3.png\" alt=\"Italian Trulli\">"
   ]
  },
  {
   "cell_type": "markdown",
   "metadata": {
    "hidden": true,
    "slideshow": {
     "slide_type": "subslide"
    }
   },
   "source": [
    "Why data visualization matters?"
   ]
  },
  {
   "cell_type": "markdown",
   "metadata": {
    "hidden": true,
    "slideshow": {
     "slide_type": "fragment"
    }
   },
   "source": [
    "We live in the era of big data"
   ]
  },
  {
   "cell_type": "markdown",
   "metadata": {
    "hidden": true,
    "slideshow": {
     "slide_type": "fragment"
    }
   },
   "source": [
    "We never have enough time"
   ]
  },
  {
   "cell_type": "markdown",
   "metadata": {
    "hidden": true,
    "slideshow": {
     "slide_type": "fragment"
    }
   },
   "source": [
    "How are we going to make sense of all that information efficiently so we can make a good decision? "
   ]
  },
  {
   "cell_type": "markdown",
   "metadata": {
    "hidden": true,
    "slideshow": {
     "slide_type": "fragment"
    }
   },
   "source": [
    "Data visualization is an important answer to that question"
   ]
  },
  {
   "cell_type": "markdown",
   "metadata": {
    "hidden": true,
    "slideshow": {
     "slide_type": "fragment"
    }
   },
   "source": [
    "Data visualization uses visual data to communicate information in a manner that is universal, fast, and effective (source: https://analytiks.co/importance-of-data-visualization/#:~:text=Data%20visualization%20gives%20us%20a,outliers%20within%20large%20data%20sets.)"
   ]
  },
  {
   "cell_type": "markdown",
   "metadata": {
    "hidden": true,
    "slideshow": {
     "slide_type": "fragment"
    }
   },
   "source": [
    "* 90% of the information transmitted to the brain is visual - (Source: MIT)\n",
    "\n",
    "* The human brain can process an image in just 13 milliseconds - (Source: MIT)\n",
    "\n",
    "* High quality infographics are 30x more likely to be read than plain text - (Source: Kissmetrics)\n",
    "\n",
    "* Wharton School of Business study found that the use of data visualizations could shorten business meeting by 24% - (Source: American Management Association)"
   ]
  },
  {
   "cell_type": "markdown",
   "metadata": {
    "hidden": true,
    "slideshow": {
     "slide_type": "subslide"
    }
   },
   "source": [
    "Successful visualizations\n",
    "\n",
    "<img src=\"media/best_viz4.png\" alt=\"Italian Trulli\">"
   ]
  },
  {
   "cell_type": "markdown",
   "metadata": {
    "hidden": true,
    "slideshow": {
     "slide_type": "subslide"
    }
   },
   "source": [
    "Successful visualizations\n",
    "\n",
    "<img src=\"media/best_viz2.webp\" alt=\"Italian Trulli\">"
   ]
  },
  {
   "cell_type": "markdown",
   "metadata": {
    "hidden": true,
    "slideshow": {
     "slide_type": "subslide"
    }
   },
   "source": [
    "Successful visualizations\n",
    "\n",
    "<img src=\"media/best_viz3.png\" alt=\"Italian Trulli\">"
   ]
  },
  {
   "cell_type": "markdown",
   "metadata": {
    "heading_collapsed": true,
    "slideshow": {
     "slide_type": "slide"
    }
   },
   "source": [
    "### How to make effective visualizations"
   ]
  },
  {
   "cell_type": "markdown",
   "metadata": {
    "hidden": true,
    "slideshow": {
     "slide_type": "subslide"
    }
   },
   "source": [
    "1. None of the tools are perfect but most of them are good enough to make effective visualization.\n",
    "\n",
    "2. Tools and their docummentation change rapidly but the theory is persistent.\n",
    "\n",
    "3. People invest most of their time in studying tools and not theory."
   ]
  },
  {
   "attachments": {},
   "cell_type": "markdown",
   "metadata": {
    "hidden": true,
    "slideshow": {
     "slide_type": "subslide"
    }
   },
   "source": [
    "#### Visual perception\n",
    "\n",
    "<img src='media/perception_system.png'>"
   ]
  },
  {
   "attachments": {},
   "cell_type": "markdown",
   "metadata": {
    "hidden": true,
    "slideshow": {
     "slide_type": "subslide"
    }
   },
   "source": [
    "#### Visual perception\n",
    "\n",
    "<img src='media/memory_limit.png'>"
   ]
  },
  {
   "attachments": {},
   "cell_type": "markdown",
   "metadata": {
    "hidden": true,
    "slideshow": {
     "slide_type": "subslide"
    }
   },
   "source": [
    "#### Preatentive attributes\n",
    "\n",
    "<img src='media/numbers_gray.png'>"
   ]
  },
  {
   "attachments": {},
   "cell_type": "markdown",
   "metadata": {
    "hidden": true,
    "slideshow": {
     "slide_type": "fragment"
    }
   },
   "source": [
    "<img src='media/numbers_bolded.png'>"
   ]
  },
  {
   "attachments": {},
   "cell_type": "markdown",
   "metadata": {
    "hidden": true,
    "slideshow": {
     "slide_type": "fragment"
    }
   },
   "source": [
    "#### Preatentive attributes\n",
    "\n",
    "<img src='media/preatentive_attributes.png'>"
   ]
  },
  {
   "cell_type": "markdown",
   "metadata": {
    "hidden": true,
    "slideshow": {
     "slide_type": "subslide"
    }
   },
   "source": [
    "Avoid Clutter\n",
    "\n",
    "The Data-Ink ratio is a concept introduced by Edward Tufte, the expert whose work has contributed significantly to designing effective data presentations. In his 1983 book, The Visual Display of Quantitative Data, he stated the goal:\n",
    "\n",
    "Above all else show the data\n",
    "\n",
    "Tufte, 1983\n",
    "\n",
    "<img src=\"media/dataink.jpg\">\n",
    "\n",
    "<img src=\"media/tufte1.png\">\n",
    "<img src=\"media/tufte2.png\">\n",
    "\n",
    "\n",
    "https://infovis-wiki.net/wiki/Data-Ink_Ratio#:~:text=Data%2Dink%20is%20the%20non,for%20the%20presentation%20of%20data."
   ]
  },
  {
   "cell_type": "markdown",
   "metadata": {
    "hidden": true,
    "slideshow": {
     "slide_type": "subslide"
    }
   },
   "source": [
    "Commonly used graph types\n",
    "\n",
    "Change over time\n",
    "\n",
    "<img src=\"media/change_over_time.png\">\n",
    "\n",
    "https://material.io/design/communication/data-visualization.html#types"
   ]
  },
  {
   "cell_type": "markdown",
   "metadata": {
    "hidden": true,
    "slideshow": {
     "slide_type": "subslide"
    }
   },
   "source": [
    "Commonly used graph types\n",
    "\n",
    "Category Comparison\n",
    "\n",
    "<img src=\"media/category_comparison.png\">"
   ]
  },
  {
   "cell_type": "markdown",
   "metadata": {
    "hidden": true,
    "slideshow": {
     "slide_type": "subslide"
    }
   },
   "source": [
    "Commonly used graph types\n",
    "\n",
    "Ranking\n",
    "\n",
    "<img src=\"media/ranking.png\">"
   ]
  },
  {
   "cell_type": "markdown",
   "metadata": {
    "hidden": true,
    "slideshow": {
     "slide_type": "subslide"
    }
   },
   "source": [
    "Commonly used graph types\n",
    "\n",
    "Part to whole\n",
    "\n",
    "<img src=\"media/part_to_whole.png\">"
   ]
  },
  {
   "cell_type": "markdown",
   "metadata": {
    "hidden": true,
    "slideshow": {
     "slide_type": "subslide"
    }
   },
   "source": [
    "Commonly used graph types\n",
    "\n",
    "Correlation\n",
    "\n",
    "<img src=\"media/correlation.png\">"
   ]
  },
  {
   "cell_type": "markdown",
   "metadata": {
    "hidden": true,
    "slideshow": {
     "slide_type": "subslide"
    }
   },
   "source": [
    "Commonly used graph types\n",
    "\n",
    "Distribution\n",
    "\n",
    "<img src=\"media/distribution.png\">"
   ]
  },
  {
   "cell_type": "markdown",
   "metadata": {
    "hidden": true,
    "slideshow": {
     "slide_type": "subslide"
    }
   },
   "source": [
    "Commonly used graph types\n",
    "\n",
    "Flow\n",
    "\n",
    "<img src=\"media/flow.png\">"
   ]
  },
  {
   "cell_type": "markdown",
   "metadata": {
    "hidden": true,
    "slideshow": {
     "slide_type": "subslide"
    }
   },
   "source": [
    "Commonly used graph types\n",
    "\n",
    "Relationship\n",
    "\n",
    "<img src=\"media/relationship.png\">"
   ]
  },
  {
   "cell_type": "markdown",
   "metadata": {
    "hidden": true,
    "slideshow": {
     "slide_type": "subslide"
    }
   },
   "source": [
    "Basic elements of charts\n",
    "\n",
    "\n",
    "<img src=\"media/chart_elements.png\">\n",
    "\n",
    "\n"
   ]
  },
  {
   "cell_type": "markdown",
   "metadata": {
    "hidden": true,
    "slideshow": {
     "slide_type": "subslide"
    }
   },
   "source": [
    "\n",
    "<img src=\"media/visual_encodings1.png\">\n",
    "\n",
    "https://jenniewblog.wordpress.com/2016/03/08/marks-and-channels-chapter5/"
   ]
  },
  {
   "cell_type": "markdown",
   "metadata": {
    "ExecuteTime": {
     "end_time": "2020-12-12T20:30:57.621793Z",
     "start_time": "2020-12-12T20:30:57.606793Z"
    },
    "hidden": true,
    "slideshow": {
     "slide_type": "subslide"
    }
   },
   "source": [
    "Color theory\n",
    "\n",
    "\n",
    "Color Wheel\n",
    "\n",
    "The first color wheel was designed by Sir Isaac Newton in 1666\n",
    "\n",
    "\n",
    "<img src=\"media/color_wheel1.gif\">\n",
    "\n",
    "\n",
    "\n",
    "https://99designs.com/blog/tips/the-7-step-guide-to-understanding-color-theory/\n"
   ]
  },
  {
   "cell_type": "markdown",
   "metadata": {
    "ExecuteTime": {
     "end_time": "2020-12-12T20:30:57.621793Z",
     "start_time": "2020-12-12T20:30:57.606793Z"
    },
    "hidden": true,
    "slideshow": {
     "slide_type": "subslide"
    }
   },
   "source": [
    "Color theory\n",
    "\n",
    "\n",
    "Color Wheel\n",
    "\n",
    "The first color wheel was designed by Sir Isaac Newton in 1666\n",
    "\n",
    "\n",
    "<img src=\"media/color_wheel2.png\">\n",
    "<img src=\"media/color_wheel3.png\">"
   ]
  },
  {
   "cell_type": "markdown",
   "metadata": {
    "ExecuteTime": {
     "end_time": "2020-12-12T20:30:57.621793Z",
     "start_time": "2020-12-12T20:30:57.606793Z"
    },
    "hidden": true,
    "slideshow": {
     "slide_type": "subslide"
    }
   },
   "source": [
    "Color schemes and harmony\n",
    "\n",
    "Using a complementary color scheme in your visualization offers sharp contrast. \n",
    "<img src=\"media/color_wheel4.png\">\n",
    "<img src=\"media/pepper.jpg\">\n",
    "\n",
    "\n",
    "https://99designs.com/blog/tips/the-7-step-guide-to-understanding-color-theory/\n"
   ]
  },
  {
   "cell_type": "markdown",
   "metadata": {
    "ExecuteTime": {
     "end_time": "2020-12-12T20:30:57.621793Z",
     "start_time": "2020-12-12T20:30:57.606793Z"
    },
    "hidden": true,
    "slideshow": {
     "slide_type": "subslide"
    }
   },
   "source": [
    "Color schemes and harmony\n",
    "\n",
    "\n",
    "When creating an analogous color scheme, one color will dominate, one will support and another will accent.\n",
    "<img src=\"media/color_wheel5.png\">\n",
    "<img src=\"media/lays.png\">\n",
    "\n",
    "https://99designs.com/blog/tips/the-7-step-guide-to-understanding-color-theory/\n"
   ]
  },
  {
   "cell_type": "markdown",
   "metadata": {
    "ExecuteTime": {
     "end_time": "2020-12-12T20:30:57.621793Z",
     "start_time": "2020-12-12T20:30:57.606793Z"
    },
    "hidden": true,
    "slideshow": {
     "slide_type": "subslide"
    }
   },
   "source": [
    "Color schemes and harmony\n",
    "\n",
    "Using a triadic color scheme in your marketing creates visual contrast and harmony simultaneously, making each item stand out while making the overall image pop.\n",
    "<img src=\"media/color_wheel6.png\">\n",
    "<img src=\"media/burgerking.jpg\">\n",
    "\n",
    "\n",
    "\n",
    "https://99designs.com/blog/tips/the-7-step-guide-to-understanding-color-theory/\n"
   ]
  },
  {
   "cell_type": "markdown",
   "metadata": {
    "ExecuteTime": {
     "end_time": "2020-12-12T20:30:57.621793Z",
     "start_time": "2020-12-12T20:30:57.606793Z"
    },
    "hidden": true,
    "slideshow": {
     "slide_type": "subslide"
    }
   },
   "source": [
    "Choosing color effectively\n",
    "\n",
    "\n",
    "Color theory\n",
    "\n",
    "\n",
    "HSL\n",
    "\n",
    "\n",
    "<img src=\"media/hsl.webp\">\n",
    "\n",
    "* A hue is basically any color on the color wheel. When you are using a color wheel or a color picker, you can adjust the saturation and luminance of a hue.\n",
    "\n",
    "* Saturation is the intensity or purity of the color.\n",
    "\n",
    "* Luminance is the amount of brightness or light in a color.\n",
    "\n",
    "\n",
    "https://www.canva.com/colors/color-wheel/\n"
   ]
  },
  {
   "cell_type": "markdown",
   "metadata": {
    "hidden": true,
    "slideshow": {
     "slide_type": "subslide"
    }
   },
   "source": [
    "Tips for using colors wisely\n",
    "\n",
    "Use saturation and lightness to make your hues work\n",
    "\n",
    "<img src=\"media/color_tip1.png\">\n",
    "\n",
    "\n",
    "\n",
    "https://blog.datawrapper.de/beautifulcolors/#:~:text=makes%20them%20work.-,Use%20warm%20colors%20%26%20blue,%2Forange%2Fred%20and%20blue."
   ]
  },
  {
   "cell_type": "markdown",
   "metadata": {
    "hidden": true,
    "slideshow": {
     "slide_type": "subslide"
    }
   },
   "source": [
    "Tips for using colors wisely\n",
    "\n",
    "Use warm colors & blue\n",
    "\n",
    "<img src=\"media/color_tip2.png\">\n",
    "\n",
    "\n",
    "\n",
    "https://blog.datawrapper.de/beautifulcolors/#:~:text=makes%20them%20work.-,Use%20warm%20colors%20%26%20blue,%2Forange%2Fred%20and%20blue."
   ]
  },
  {
   "cell_type": "markdown",
   "metadata": {
    "hidden": true,
    "slideshow": {
     "slide_type": "subslide"
    }
   },
   "source": [
    "Tips for using colors wisely\n",
    "\n",
    "Avoid pure colors\n",
    "\n",
    "“Pure” hues are the ones that are located at exactly 60°, 120°, 180°, 240°, 300° or 360°/0° in the color wheel\n",
    "\n",
    "<img src=\"media/color_tip3.png\">\n",
    "\n",
    "\n",
    "\n",
    "https://blog.datawrapper.de/beautifulcolors/#:~:text=makes%20them%20work.-,Use%20warm%20colors%20%26%20blue,%2Forange%2Fred%20and%20blue."
   ]
  },
  {
   "cell_type": "markdown",
   "metadata": {
    "hidden": true,
    "slideshow": {
     "slide_type": "subslide"
    }
   },
   "source": [
    "Tips for using colors wisely\n",
    "\n",
    "Avoid bright, saturated colors\n",
    "\n",
    "<img src=\"media/color_tip4.png\">\n",
    "\n",
    "\n",
    "\n",
    "https://blog.datawrapper.de/beautifulcolors/#:~:text=makes%20them%20work.-,Use%20warm%20colors%20%26%20blue,%2Forange%2Fred%20and%20blue."
   ]
  },
  {
   "cell_type": "markdown",
   "metadata": {
    "hidden": true,
    "slideshow": {
     "slide_type": "subslide"
    }
   },
   "source": [
    "Tips for using colors wisely\n",
    "\n",
    "Avoid too little contrast to the background\n",
    "\n",
    "<img src=\"media/color_tip5.png\">\n",
    "\n",
    "\n",
    "\n",
    "https://blog.datawrapper.de/beautifulcolors/#:~:text=makes%20them%20work.-,Use%20warm%20colors%20%26%20blue,%2Forange%2Fred%20and%20blue."
   ]
  },
  {
   "cell_type": "markdown",
   "metadata": {
    "hidden": true,
    "slideshow": {
     "slide_type": "subslide"
    }
   },
   "source": [
    "Tips for using colors wisely\n",
    "\n",
    "Don't forget about color blindgness.\n",
    "\n",
    "Approximately 1 in 12 men and 1 in 200 women in the world. The most common forms of color blindness cause confusion between certain shades of red and green, though there are also forms of color blindness that cause blue and yellow shades to look the same.\n",
    "\n",
    "<img src=\"media/color_tip6.png\">\n",
    "\n",
    "\n",
    "\n",
    "https://medium.com/nightingale/how-to-choose-the-colors-for-your-data-visualizations-50b2557fa335"
   ]
  },
  {
   "cell_type": "markdown",
   "metadata": {
    "hidden": true,
    "slideshow": {
     "slide_type": "subslide"
    }
   },
   "source": [
    "Dashboards\n",
    "\n",
    "1. Decide what you want your dashboard to do \n",
    "2. Only include what matters and avoid scrollbars\n",
    "3. Keep important things on the top left part of dashboard\n",
    "4. Use friendly labels and keep things clean\n",
    "5. Display timestamp"
   ]
  },
  {
   "cell_type": "markdown",
   "metadata": {},
   "source": [
    "### Visualization libraries"
   ]
  },
  {
   "cell_type": "markdown",
   "metadata": {},
   "source": [
    "if u already know theory, choose the right tool\n",
    "\n",
    "list of tools"
   ]
  },
  {
   "cell_type": "markdown",
   "metadata": {},
   "source": [
    "<img src=\"media/PythonVisLandscape.jpg\">"
   ]
  },
  {
   "cell_type": "markdown",
   "metadata": {},
   "source": [
    "<img src=\"media/Python-plot-tools.png\">"
   ]
  },
  {
   "cell_type": "markdown",
   "metadata": {},
   "source": [
    "my personal solution - explore with matplotlib, dashboard with powerbi, or bokeh, if u have one week for one chart - use d3"
   ]
  },
  {
   "cell_type": "markdown",
   "metadata": {},
   "source": [
    "examples"
   ]
  },
  {
   "cell_type": "markdown",
   "metadata": {},
   "source": [
    "Prepare your notebooks"
   ]
  },
  {
   "cell_type": "markdown",
   "metadata": {
    "heading_collapsed": true,
    "slideshow": {
     "slide_type": "slide"
    }
   },
   "source": [
    "## Practice (45 min)"
   ]
  },
  {
   "cell_type": "markdown",
   "metadata": {
    "heading_collapsed": true,
    "hidden": true
   },
   "source": [
    "### Bokeh, general talk and history"
   ]
  },
  {
   "cell_type": "markdown",
   "metadata": {
    "hidden": true
   },
   "source": [
    "### Exercise 1"
   ]
  },
  {
   "cell_type": "markdown",
   "metadata": {
    "hidden": true
   },
   "source": [
    "### Exercise 1"
   ]
  },
  {
   "cell_type": "markdown",
   "metadata": {
    "hidden": true
   },
   "source": [
    "### Exercise 1"
   ]
  },
  {
   "cell_type": "markdown",
   "metadata": {
    "hidden": true
   },
   "source": [
    "### Exercise 1"
   ]
  },
  {
   "cell_type": "markdown",
   "metadata": {
    "hidden": true
   },
   "source": [
    "### Exercise 1"
   ]
  },
  {
   "cell_type": "markdown",
   "metadata": {
    "hidden": true
   },
   "source": [
    "### Exercise 1"
   ]
  },
  {
   "cell_type": "code",
   "execution_count": null,
   "metadata": {
    "hidden": true
   },
   "outputs": [],
   "source": []
  },
  {
   "cell_type": "code",
   "execution_count": null,
   "metadata": {
    "hidden": true
   },
   "outputs": [],
   "source": []
  },
  {
   "cell_type": "code",
   "execution_count": null,
   "metadata": {
    "hidden": true
   },
   "outputs": [],
   "source": []
  },
  {
   "cell_type": "code",
   "execution_count": null,
   "metadata": {
    "hidden": true
   },
   "outputs": [],
   "source": []
  }
 ],
 "metadata": {
  "celltoolbar": "Slideshow",
  "kernelspec": {
   "display_name": "Python 3",
   "language": "python",
   "name": "python3"
  },
  "language_info": {
   "codemirror_mode": {
    "name": "ipython",
    "version": 3
   },
   "file_extension": ".py",
   "mimetype": "text/x-python",
   "name": "python",
   "nbconvert_exporter": "python",
   "pygments_lexer": "ipython3",
   "version": "3.8.3"
  }
 },
 "nbformat": 4,
 "nbformat_minor": 4
}
